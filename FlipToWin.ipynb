{
 "cells": [
  {
   "cell_type": "markdown",
   "id": "cd58036a",
   "metadata": {},
   "source": [
    "Tose a coin and says whether it's heads or tails."
   ]
  },
  {
   "cell_type": "code",
   "execution_count": 6,
   "id": "960d118b",
   "metadata": {},
   "outputs": [
    {
     "name": "stdout",
     "output_type": "stream",
     "text": [
      "You got Tails\n"
     ]
    }
   ],
   "source": [
    "import random\n",
    "\n",
    "coin = random.choice([True, False])\n",
    "if coin == True:\n",
    "    print(\"You got Heads\")\n",
    "else:\n",
    "    print(\"You got Tails\")\n"
   ]
  },
  {
   "cell_type": "markdown",
   "id": "989a7f55",
   "metadata": {},
   "source": [
    "Given 10 coins, you tose them and says how many are Heas or Tails."
   ]
  },
  {
   "cell_type": "code",
   "execution_count": 23,
   "id": "5f220c4a",
   "metadata": {},
   "outputs": [
    {
     "name": "stdout",
     "output_type": "stream",
     "text": [
      "You got 7 Heads and 3 Tails.\n"
     ]
    }
   ],
   "source": [
    "i = 0\n",
    "for j in range(10):\n",
    "    if random.choice([True, False]) == True:\n",
    "        i += 1\n",
    "\n",
    "print(\"You got \" + str(i) + \" Heads and \" + str(10-i) +\" Tails.\")"
   ]
  },
  {
   "cell_type": "markdown",
   "id": "171c483f",
   "metadata": {},
   "source": [
    "Flip 2 coins. You get as many new coins as the number of tails you get."
   ]
  },
  {
   "cell_type": "code",
   "execution_count": 29,
   "id": "219678ac",
   "metadata": {},
   "outputs": [
    {
     "name": "stdout",
     "output_type": "stream",
     "text": [
      "You got 4 Tails.\n"
     ]
    }
   ],
   "source": [
    "i = 2\n",
    "for j in range(2):\n",
    "    if random.choice([True, False]) == False:\n",
    "        i += 1\n",
    "        \n",
    "print(\"You got \" + str(i) +\" Tails.\")  "
   ]
  },
  {
   "cell_type": "markdown",
   "id": "8c0a7470",
   "metadata": {},
   "source": [
    "### Game\n",
    "1. You start with 2 coins, and flip them.\n",
    "2. You get as many new coins as the number of tails you get. You can flip again.\n",
    "3. If you get all heads, the game stops."
   ]
  },
  {
   "cell_type": "code",
   "execution_count": 57,
   "id": "4a798f23",
   "metadata": {},
   "outputs": [
    {
     "name": "stdout",
     "output_type": "stream",
     "text": [
      "The game is over. You have a total of 2 coins.\n"
     ]
    }
   ],
   "source": [
    "i = 2\n",
    "a = 1\n",
    "while a != 0:\n",
    "    b = 0\n",
    "    for j in range(i):\n",
    "        if random.choice([True, False]) == False:\n",
    "            b += 1\n",
    "    i += b \n",
    "    if b == 0:\n",
    "        print(\"The game is over. You have a total of \" + str(i) + \" coins.\")\n",
    "    else:\n",
    "        print(\"You got \" + str(b) + \" new coins, and a total of \" + str(i) + \" coins.\")\n",
    "    a = b\n",
    "        "
   ]
  },
  {
   "cell_type": "code",
   "execution_count": null,
   "id": "323eee32",
   "metadata": {},
   "outputs": [],
   "source": []
  },
  {
   "cell_type": "code",
   "execution_count": null,
   "id": "c4da8656",
   "metadata": {},
   "outputs": [],
   "source": []
  }
 ],
 "metadata": {
  "kernelspec": {
   "display_name": "Python 3 (ipykernel)",
   "language": "python",
   "name": "python3"
  },
  "language_info": {
   "codemirror_mode": {
    "name": "ipython",
    "version": 3
   },
   "file_extension": ".py",
   "mimetype": "text/x-python",
   "name": "python",
   "nbconvert_exporter": "python",
   "pygments_lexer": "ipython3",
   "version": "3.11.4"
  }
 },
 "nbformat": 4,
 "nbformat_minor": 5
}

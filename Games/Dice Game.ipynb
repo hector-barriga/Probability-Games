{
 "cells": [
  {
   "cell_type": "markdown",
   "id": "d527e7e5",
   "metadata": {},
   "source": [
    "## A Dice Game\n",
    "\n",
    "At the end of the Spring 2024 semester, one of my students asked about a probability game with a dice. This is the game:\n",
    "- You roll a different number of dice, but they’re all six sided.\n",
    "- The interesting part is if a dice roll a 1, 2 or 3 that dice is worth zero points, if you roll 4 or 5 it’s worth one point, and if you roll a 6 it’s worth two points.\n",
    "\n",
    "### What is the probability that if I roll 10 six-sided dice I get 5 or more points?\n"
   ]
  },
  {
   "cell_type": "code",
   "execution_count": 44,
   "id": "2bb1f3af",
   "metadata": {},
   "outputs": [
    {
     "name": "stdout",
     "output_type": "stream",
     "text": [
      "Probability Distribution\n",
      "[0.0009765625, 0.0065097656249999995, 0.022783203320312497, 0.054245009331562496, 0.09746115557719906, 0.13945110034719904, 0.16411455096137084, 0.1621414273599631, 0.1362839380627186, 0.09827190229875205, 0.06107528294736726, 0.032763852226403926, 0.015148717454366797, 0.006008841913875832, 0.002027726938208445, 0.000574446943370961, 0.0001338520815585475, 2.4838133482225024e-05, 3.478079861762251e-06, 3.313261485324072e-07, 1.6571277815887273e-08]\n",
      "\n",
      "Probability of getting 5 or more point in rolling 10 dice: 0.8180243036459257\n"
     ]
    }
   ],
   "source": [
    "import numpy as np\n",
    "\n",
    "# Number of dice\n",
    "num_dice = 10\n",
    "\n",
    "# Probabilities of scoring 0, 1, and 2 points respectively\n",
    "probabilities = {0: 0.5, 1: 0.3333, 2: 0.1667}\n",
    "\n",
    "# Create an array to store the probability of each possible score\n",
    "max_score = 2 * num_dice  # Maximum possible score with 10 dice\n",
    "score_prob = np.zeros(max_score + 1) # Creates an array with max_score-many zeros in float\n",
    "score_prob[0] = 1  # Initial state, 0 points with 0 dice\n",
    "\n",
    "# Calculate the probability distribution of the total score from 10 dice\n",
    "for _ in range(num_dice):\n",
    "    new_score_prob = np.zeros(max_score + 1)    \n",
    "    for score, prob in probabilities.items():\n",
    "        if score == 0:\n",
    "            new_score_prob += score_prob * prob\n",
    "            # print(\"New score\")\n",
    "            # print(new_score_prob)\n",
    "\n",
    "        else:\n",
    "            new_score_prob[score:] += score_prob[:-score] * prob\n",
    "            # print(\"New score\")\n",
    "            # print(new_score_prob)\n",
    "\n",
    "    score_prob = new_score_prob\n",
    "\n",
    "probability_dist = list(score_prob)\n",
    "print(\"Probability Distribution\")\n",
    "print(probability_dist)\n",
    "print()\n",
    "\n",
    "# Calculate the probability of getting 5 or more points\n",
    "prob_5_or_more = np.sum(score_prob[5:])\n",
    "\n",
    "print(\"Probability of getting 5 or more point in rolling 10 dice: \" + str(prob_5_or_more))"
   ]
  },
  {
   "cell_type": "code",
   "execution_count": null,
   "id": "84bfcdf8",
   "metadata": {},
   "outputs": [],
   "source": []
  }
 ],
 "metadata": {
  "kernelspec": {
   "display_name": "Python 3 (ipykernel)",
   "language": "python",
   "name": "python3"
  },
  "language_info": {
   "codemirror_mode": {
    "name": "ipython",
    "version": 3
   },
   "file_extension": ".py",
   "mimetype": "text/x-python",
   "name": "python",
   "nbconvert_exporter": "python",
   "pygments_lexer": "ipython3",
   "version": "3.11.4"
  }
 },
 "nbformat": 4,
 "nbformat_minor": 5
}
